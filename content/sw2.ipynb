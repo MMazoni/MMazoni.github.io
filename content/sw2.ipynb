{
 "cells": [
  {
   "cell_type": "markdown",
   "metadata": {},
   "source": [
    "# Engenharia de Software II - Professora Rosemeire\n",
    "-------------------------\n",
    "### Sumário P1\n",
    "\n",
    "1. Modelagem de Negócio\n",
    "2. Cenários\n",
    "3. Requisitos\n",
    "4. Diagrama de Caso de Uso\n",
    "5. Caso de Uso Expandido\n",
    "6. Diagrama de Atividades\n",
    "\n"
   ]
  },
  {
   "cell_type": "markdown",
   "metadata": {},
   "source": [
    "### 1. Modelagem de Negócio\n",
    "\n",
    "Para entender o negócio devemos obter as seguintes informações:\n",
    "\n",
    "+ Ramo e atividades de negócio: o que o negócio faz e quais são as principais atividades dele?\n",
    "+ Processos de Negócio: como as atividades de negócio são realizadas?\n",
    "+ Regras de Negócio: quais os conjuntos de regras que especificam restrições que devem ser cumpridas?\n",
    "+ Quem são os envolvidos? (stakeholders)\n",
    "+ Concorrentes: quem são seus concorrentes?\n",
    "\n",
    "\n",
    "\n",
    "**BrancoBot**: guia virtual direcionado para esclarecer dúvidas e conseguir informações que possam estar disponíveis no site da FATEC ou ser um assistente para responder perguntas de usuários do site. Além disso, criar notificações com informações e notícias.\n",
    "O público alvo para a aplicação englobaria alunos, professores e interessados a ingressar na faculdade.\n",
    "\n"
   ]
  },
  {
   "cell_type": "markdown",
   "metadata": {},
   "source": [
    "### 2. Cenários\n",
    "\n",
    "+ Descrição narrativa informal. Descreve as atividades ou tarefas humanas em uma história que permite exploração e a discussão de contextos, necessidades e requisitos.\n",
    "\n",
    "+ Primeiro passo para se estabelecer requisitos.\n",
    "\n",
    "+ Não descreve explicitamente o uso do sistema para realizar uma tarefa.\n",
    "\n",
    "#### Cenários \"BrancoBot\":\n",
    "\n",
    "1. O professor Walter fez uma cirurgia de última hora, o que impossibilitou sua presença na aula de estatística. O aplicativo notifica a sua ausência para os alunos, o professor possui um usuário com privilégios administrativos para tal, evitando deslocamento desnecessário dos mesmos.\n",
    "\n",
    "2. A professora Edna ia iniciar a sua aula na sala B13, e então percebe que o projetor estava apresentando problemas de funcionamento. Ela resolve mudar para a sala B14m que estava livre. Então utiliza o chatbot para notificar a mudança de última hora para os alunos.\n",
    "\n",
    "3. João estava interessado em ingressar em alguma universidade que possua curso de ADS. Então é indicado pela amiga Leila a tentar entrar na FATEC via vestibular. Ele acessa o site da FATEC Rubens Lara e, através do chatbot, faz perguntas sobre: taxa de inscrição, período de inscrição e cursos disponíveis. O próprio bot direciona João aos links disponíveis na página.\n",
    "\n",
    "4. Jeremias começou a estagiar na Google e precisa de uma declaração de matrícula que lhe foi solicitada. Ele faz o pedido ao chatbot e o próprio lhe pede os dados necessários para o requerimento: nome completo, curso, ciclo e período, com a solicitação feita, o bot lhe informa em quantos uteis o documento estará disponível para retirada na secretária. Além disso o chatbot lhe fornece informações úteis em relação ao estágio relacionado ao curso.\n"
   ]
  },
  {
   "cell_type": "markdown",
   "metadata": {},
   "source": [
    "### 3. Requisitos\n",
    "\n",
    "\n",
    "| Número | Requisitos Funcional                                           |\n",
    "|:-----|:----------------------------------------------------------------:|\n",
    "| `RF01` | O sistema deve permitir que o professor, através de privilégios administrativos, notifique aos alunos matriculados em suas matérias caso se ausente na aula. |\n",
    "|`RF02`|O sistema possibilita que o professor, através de privilégios administrativos, notifique os alunos uma eventual mudança de sala de aula de última hora.|\n",
    "|`RF03`| O chatbot deve permitir ao usuário adquirir informações através da interface intuitiva sobre o vestibular, como taxa de inscrição, período de inscrição, cursos disponíveis e outras informações relevantes ao vestibular.|\n",
    "|`RF04`| O chatbot permite ao usuário, através de seu login, fazer pedido de documentação disponíveis na secretaria, solicitando dados necessários, e retornando um prazo para retirada. A IA do chatbot também fornece informações caso seja um documentos solicitado para algum fim, como estágio.|\n",
    "|`RF05`| O sistema permite ao usuário (aluno) ter acesso ao SIGA (Sistema Integrado de Gestão Acadêmica) através do chatbot, e através do próprio obter todas as informações disponíveis nele (notas, faltas, histórico, faltas, material das disciplinas do plano de ensino do aluno etc).|\n",
    "|`RF06`| O sistema deve permitir ao usuário (aluno) fazer seu cadastro no chatbot para ter acesso a todas as suas informações. O número da matrícula é um pré-requisito para ser cadastrar. O cadastro pode ser feito utilizando seu login e senha do SIGA, preenchendo automaticamente os dados já cadastrados.|\n",
    "|`RF07`| O sistema deve permitir ao usuário (professor) a fazer seu cadastro no chatbot para utilizar seus recursos administrativos (notificar aos alunos matriculados em sua matéria a respeito de divulgação de notas, ausência na aula, mudança de sala, envio de material de estudo para os alunos etc). Seu login e senha do SIGA serão necessários para o cadastro.|\n",
    "|`RF08`| O sistema permite aos usuários cadastrados (alunos, professores e administradores) a acessar uma área para estágios e empregos, cadastrar e visualizar novas vagas relacionados aos cursos oferecidos na FATEC. É necessária aprovação dos administradores para a vaga estar disponível para visualização. Cadastros realizados por professores não tem necessidade de aprovação dos administradores.|\n",
    "|`RF09`| O sistema permite aos usuários administradores gerenciar todas as solicitações requeridas pelos usuários, como pedido de documentação, cadastro de vagas de estágios e empregos.|\n"
   ]
  },
  {
   "cell_type": "markdown",
   "metadata": {},
   "source": [
    "### 4. Diagrama de Caso de Uso\n",
    "\n",
    "#### O que é?\n",
    "\n",
    "+ Uma ferramenta do UML (Unified Modeling Language), com o objetivo de representar formalmente os requisitos do sistema.   \n",
    "+ Forma de modelar através de diagrama os requisitos do usuário através de cenários.\n",
    "\n",
    "#### É utilizado:\n",
    "\n",
    "+ Usa-se no início do projeto;\n",
    "\n",
    "+ Um dos diagramas mais utilizados do UML;\n",
    "\n",
    "+ Auxilia na definição do escopo do projeto (ambiente);\n",
    "\n",
    "+ Modela os elementos externos do sistema (atores);\n",
    "\n",
    "+ Modela as ações (caso de uso) do sistema realizadas pelos atores;\n",
    "\n",
    "+ Auxilia na interpretação para o cliente;\n",
    "\n",
    "#### Relação:\n",
    "\n",
    "+ Relação entre o ator e o caso de uso: \n",
    "\n",
    "    + associação\n",
    "\n",
    "+ Relação entre casos de uso:\n",
    "\n",
    "    + include: Quando um caso de uso “A” inclui (include) outro caso de uso “B”. Isto implica que ao executar o caso de uso “A” executa-se também o caso de uso “B”.\n",
    "\n",
    "    + extends: Quando um caso de uso “A” tem um relacionamento do tipo extends com outro caso de uso “B”. Implica que ao executar o caso de uso “A” não necessariamente “B” será executado.\n",
    "\n",
    "+ Relação entre atores:\n",
    "\n",
    "    + O ator pode herdar as funcionalidades (casos de uso) de outro ator.\n",
    "\n",
    "\n",
    "![alt text](https://trello-attachments.s3.amazonaws.com/5c5c6af0983f2b5dc9c1dd4f/5c89835d8ec74f8558854c0d/96ad04bc194dac2b5d749da1a080d325/DiagramaCasoDeUso.PNG 'DiagramaDeCasoDeUso.PNG')"
   ]
  },
  {
   "cell_type": "markdown",
   "metadata": {},
   "source": [
    "### 5. Caso de Uso Expandido\n",
    "\n",
    "+ Corresponde ao aprofundamento da análise de requisitos, realizando um exame detalhado do processo envolvido.\n",
    "\n",
    "+ Descreve-se o caso de uso passo a passo - como ele ocorre e como é a interação entre os atores e o sistema.\n",
    "\n",
    "+ Descrever apenas quais informações os atores passam ao sistema e quais informações o sistema passa aos atores.\n",
    "\n",
    "#### Fluxo Principal\n",
    "\n",
    " - Caminho ótimo do processo da funcionalidade.\n",
    "\n",
    " - Há apenas um fluxo principal para cada caso de uso.\n",
    "\n",
    " - Contém o passo a passo da execução da funcionalidade de maneira bem sucedida. \n",
    "\n",
    " - Representa o objetivo principal do uso da funcionalidade. \n",
    "\n",
    "\n",
    "#### Fluxo Alternativo\n",
    "\n",
    "+ Especifica as alternativas  que o usuário pode ter durante o fluxo principal.\n",
    "\n",
    "+ Pode ocorrer mais de uma opção de alternativa.\n",
    "\n",
    "+ IMPORTANTE: Fluxos alternativos são fluxos  executados a partir da **escolha do usuário**, e **não** a partir de **erros** do sistema.\n",
    "\n",
    "#### Fluxo Exceção\n",
    "+ Especifica as exceções que o sistema deve apresentar, caso erros ocorram. \n",
    "\n",
    "+ Exceções devem ser previstas.\n",
    "\n",
    "+ IMPORTANTE: Fluxos de exceção são resultados que o sistema deve apresentar caso o processo esperado pela funcionalidade não seja alcançado."
   ]
  },
  {
   "cell_type": "markdown",
   "metadata": {},
   "source": [
    "### 6. Diagrama de Atividades\n",
    "\n",
    "Um diagrama de atividades ilustra o fluxo de atividades que precisam ocorrer durante uma operação ou processo.\n",
    "\n",
    "Um diagrama de atividade consiste em o ponto de partida do processo representado por um círculo sólido e setas de transição que representam o fluxo ou a transição de uma atividade para outra. \n",
    "\n",
    "Retângulos arredondados representam as atividades, e um círculo com uma bola representa o ponto final do processo. Por exemplo, a Figura abaixo mostra um diagrama de atividades genérico que representa um processo que começa com a atividade A, passa para a atividade B e conclui.\n",
    "\n",
    "![alt text](https://trello-attachments.s3.amazonaws.com/5c5c6af0983f2b5dc9c1dd4f/5cae721e07692464df39d5c1/c6e1f9f5c842af67920904e0a34200ca/image.png 'image.png')"
   ]
  },
  {
   "cell_type": "code",
   "execution_count": null,
   "metadata": {},
   "outputs": [],
   "source": []
  }
 ],
 "metadata": {
  "kernelspec": {
   "display_name": "Python 3",
   "language": "python",
   "name": "python3"
  },
  "language_info": {
   "codemirror_mode": {
    "name": "ipython",
    "version": 3
   },
   "file_extension": ".py",
   "mimetype": "text/x-python",
   "name": "python",
   "nbconvert_exporter": "python",
   "pygments_lexer": "ipython3",
   "version": "3.7.2"
  }
 },
 "nbformat": 4,
 "nbformat_minor": 2
}
